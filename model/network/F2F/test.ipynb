{
 "cells": [
  {
   "cell_type": "code",
   "execution_count": 9,
   "metadata": {},
   "outputs": [
    {
     "name": "stdout",
     "output_type": "stream",
     "text": [
      "torch.Size([256, 512])\n",
      "torch.Size([256, 512])\n",
      "torch.Size([2, 256, 512])\n"
     ]
    }
   ],
   "source": [
    "import torch \n",
    "test0 = torch.rand(1, 256,256,512)\n",
    "test1= torch.rand(1, 256,256,512)\n",
    "\n",
    "\n",
    "\n",
    "print(test0[0,0,:,:].shape)\n",
    "print(test1[0,0,:,:].shape)\n",
    "stack = torch.stack((test0[0,0,:,:],test1[0,0,:,:]),dim=0)\n",
    "print(stack.shape)"
   ]
  },
  {
   "cell_type": "code",
   "execution_count": 14,
   "metadata": {},
   "outputs": [
    {
     "name": "stdout",
     "output_type": "stream",
     "text": [
      "torch.Size([2, 3])\n",
      "torch.Size([2, 3])\n",
      "torch.Size([2, 2, 3])\n",
      "torch.Size([2, 2, 3])\n",
      "torch.Size([2, 2, 2, 3])\n",
      "tensor([[[[  1,   2,   3],\n",
      "          [  4,   5,   6]],\n",
      "\n",
      "         [[555,   5,   3],\n",
      "          [ 49,   5,   6]]],\n",
      "\n",
      "\n",
      "        [[[  5,   5,   3],\n",
      "          [ 49,   5,   6]],\n",
      "\n",
      "         [[  5,   5,   3],\n",
      "          [ 49,   5,   6]]]])\n"
     ]
    }
   ],
   "source": [
    "test0 = torch.tensor([[1, 2, 3], [4, 5, 6]])\n",
    "test1 = torch.tensor([[5, 5, 3], [49, 5, 6]])\n",
    "test2 = torch.tensor([[555, 5, 3], [49, 5, 6]])\n",
    "\n",
    "print(test0.shape)\n",
    "print(test1.shape)\n",
    "stack = torch.stack((test0,test1),dim=0)\n",
    "stack1 = torch.stack((test0,test1),dim=0)\n",
    "stack2 = torch.stack((test2,test1),dim=0)\n",
    "print(stack1.shape)\n",
    "print(stack2.shape)\n",
    "stack3 = torch.stack((stack1,stack2),dim=1)\n",
    "print(stack3.shape)\n",
    "print(stack3)"
   ]
  },
  {
   "cell_type": "code",
   "execution_count": 4,
   "metadata": {},
   "outputs": [
    {
     "name": "stdout",
     "output_type": "stream",
     "text": [
      "cuda:0\n",
      "torch.Size([1, 256, 1, 256, 512])\n",
      "1769728\n",
      "512\n"
     ]
    }
   ],
   "source": [
    "import torch.nn as nn\n",
    "import torch\n",
    "torch.cuda.empty_cache()\n",
    "device = torch.device('cuda:0')\n",
    "print(device)\n",
    "# With square kernels and equal stride\n",
    "m = nn.Conv3d(16, 33, 3, stride=2)\n",
    "# non-square kernels and unequal stride and with padding\n",
    "m = nn.Conv3d(256, 256, (3, 3, 3), stride=(1, 1, 1), padding=(0, 1, 1))\n",
    "\n",
    "3*3*3*256*256+256\n",
    "\n",
    "input = torch.randn(1, 256, 3, 256, 512)\n",
    "\n",
    "input = input.cuda()\n",
    "m = m.to(device)\n",
    "output = m(input)\n",
    "\n",
    "print(output.shape)\n",
    "\n",
    "pytorch_total_params = sum(p.numel() for p in m.parameters())\n",
    "print(pytorch_total_params)\n",
    "print(pytorch_total_params-(256*256*27)+256)"
   ]
  },
  {
   "cell_type": "code",
   "execution_count": 3,
   "metadata": {},
   "outputs": [
    {
     "name": "stdout",
     "output_type": "stream",
     "text": [
      "torch.Size([1, 256, 1, 256, 512])\n"
     ]
    }
   ],
   "source": [
    "\n",
    "input = torch.randn(1, 256, 1, 256, 512)\n",
    "input1 = torch.randn(1, 256, 1, 256, 512)\n",
    "\n",
    "x = torch.add(input, input1)\n",
    "print(x.shape)"
   ]
  },
  {
   "cell_type": "code",
   "execution_count": 7,
   "metadata": {},
   "outputs": [
    {
     "name": "stdout",
     "output_type": "stream",
     "text": [
      "tensor(1.1285, grad_fn=<L1LossBackward>)\n"
     ]
    }
   ],
   "source": [
    "import torch.nn as nn\n",
    "\n",
    "loss = nn.L1Loss()\n",
    "input = torch.randn(1,,512,256, requires_grad=True)\n",
    "target = torch.randn(256, 1,512,256)\n",
    "output = loss(input, target)\n",
    "\n",
    "print(output)"
   ]
  }
 ],
 "metadata": {
  "kernelspec": {
   "display_name": "Python 3.7.9 ('efficientPS_env')",
   "language": "python",
   "name": "python3"
  },
  "language_info": {
   "codemirror_mode": {
    "name": "ipython",
    "version": 3
   },
   "file_extension": ".py",
   "mimetype": "text/x-python",
   "name": "python",
   "nbconvert_exporter": "python",
   "pygments_lexer": "ipython3",
   "version": "3.7.9"
  },
  "orig_nbformat": 4,
  "vscode": {
   "interpreter": {
    "hash": "278bdd20b88451d45966bf823f9d365e20b2cc852c55e9bca6afb4b3710e1807"
   }
  }
 },
 "nbformat": 4,
 "nbformat_minor": 2
}
